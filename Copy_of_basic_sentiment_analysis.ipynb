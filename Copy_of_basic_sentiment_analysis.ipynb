{
  "nbformat": 4,
  "nbformat_minor": 0,
  "metadata": {
    "colab": {
      "name": "Copy of basic sentiment analysis.ipynb",
      "provenance": [],
      "collapsed_sections": [],
      "authorship_tag": "ABX9TyN8dAv7uSdI3u22dhle3Fzd",
      "include_colab_link": true
    },
    "kernelspec": {
      "name": "python3",
      "display_name": "Python 3"
    }
  },
  "cells": [
    {
      "cell_type": "markdown",
      "metadata": {
        "id": "view-in-github",
        "colab_type": "text"
      },
      "source": [
        "<a href=\"https://colab.research.google.com/github/anitadala/Basic-Sentiment-Analysis/blob/master/Copy_of_basic_sentiment_analysis.ipynb\" target=\"_parent\"><img src=\"https://colab.research.google.com/assets/colab-badge.svg\" alt=\"Open In Colab\"/></a>"
      ]
    },
    {
      "cell_type": "code",
      "metadata": {
        "id": "3i01ZSvALfWE",
        "colab_type": "code",
        "outputId": "42fe794e-4dce-42ae-9f17-79faa12f19e7",
        "colab": {
          "base_uri": "https://localhost:8080/",
          "height": 54
        }
      },
      "source": [
        "from tensorflow.python.keras.datasets import imdb\n",
        "(x_train,y_train),(x_test,y_test) = imdb.load_data(num_words = 10000)"
      ],
      "execution_count": 0,
      "outputs": [
        {
          "output_type": "stream",
          "text": [
            "Downloading data from https://storage.googleapis.com/tensorflow/tf-keras-datasets/imdb.npz\n",
            "17465344/17464789 [==============================] - 1s 0us/step\n"
          ],
          "name": "stdout"
        }
      ]
    },
    {
      "cell_type": "code",
      "metadata": {
        "id": "PiqpsJh5FFjt",
        "colab_type": "code",
        "outputId": "6ec52c25-14c8-4487-9921-e851ae4d143c",
        "colab": {
          "base_uri": "https://localhost:8080/",
          "height": 55
        }
      },
      "source": [
        "print(x_train[0])\n",
        "#the words of the first review are shown here converted into numbers(tokens) as NN only understands numbers"
      ],
      "execution_count": 0,
      "outputs": [
        {
          "output_type": "stream",
          "text": [
            "[1, 14, 22, 16, 43, 530, 973, 1622, 1385, 65, 458, 4468, 66, 3941, 4, 173, 36, 256, 5, 25, 100, 43, 838, 112, 50, 670, 2, 9, 35, 480, 284, 5, 150, 4, 172, 112, 167, 2, 336, 385, 39, 4, 172, 4536, 1111, 17, 546, 38, 13, 447, 4, 192, 50, 16, 6, 147, 2025, 19, 14, 22, 4, 1920, 4613, 469, 4, 22, 71, 87, 12, 16, 43, 530, 38, 76, 15, 13, 1247, 4, 22, 17, 515, 17, 12, 16, 626, 18, 2, 5, 62, 386, 12, 8, 316, 8, 106, 5, 4, 2223, 5244, 16, 480, 66, 3785, 33, 4, 130, 12, 16, 38, 619, 5, 25, 124, 51, 36, 135, 48, 25, 1415, 33, 6, 22, 12, 215, 28, 77, 52, 5, 14, 407, 16, 82, 2, 8, 4, 107, 117, 5952, 15, 256, 4, 2, 7, 3766, 5, 723, 36, 71, 43, 530, 476, 26, 400, 317, 46, 7, 4, 2, 1029, 13, 104, 88, 4, 381, 15, 297, 98, 32, 2071, 56, 26, 141, 6, 194, 7486, 18, 4, 226, 22, 21, 134, 476, 26, 480, 5, 144, 30, 5535, 18, 51, 36, 28, 224, 92, 25, 104, 4, 226, 65, 16, 38, 1334, 88, 12, 16, 283, 5, 16, 4472, 113, 103, 32, 15, 16, 5345, 19, 178, 32]\n"
          ],
          "name": "stdout"
        }
      ]
    },
    {
      "cell_type": "code",
      "metadata": {
        "id": "nj-FWX6-FRTl",
        "colab_type": "code",
        "outputId": "9316f971-d547-4d36-ea19-2f46245425f6",
        "colab": {
          "base_uri": "https://localhost:8080/",
          "height": 35
        }
      },
      "source": [
        "print(y_train[0])    \n",
        "# 1 represents positive review and 0 represents a negative review"
      ],
      "execution_count": 0,
      "outputs": [
        {
          "output_type": "stream",
          "text": [
            "1\n"
          ],
          "name": "stdout"
        }
      ]
    },
    {
      "cell_type": "code",
      "metadata": {
        "id": "8n8I9Y1lNuzI",
        "colab_type": "code",
        "colab": {}
      },
      "source": [
        "class_names = ['Negative','Positive']\n"
      ],
      "execution_count": 0,
      "outputs": []
    },
    {
      "cell_type": "code",
      "metadata": {
        "id": "jkxjasegOjYa",
        "colab_type": "code",
        "outputId": "1271bfa4-8036-4fc1-a165-5d037132938a",
        "colab": {
          "base_uri": "https://localhost:8080/",
          "height": 72
        }
      },
      "source": [
        "word_index = imdb.get_word_index()\n",
        "print(word_index['good'])\n",
        "#word_index is a dictionary (key,value_pair) which stores the token values of the words of any review"
      ],
      "execution_count": 0,
      "outputs": [
        {
          "output_type": "stream",
          "text": [
            "Downloading data from https://storage.googleapis.com/tensorflow/tf-keras-datasets/imdb_word_index.json\n",
            "1646592/1641221 [==============================] - 0s 0us/step\n",
            "49\n"
          ],
          "name": "stdout"
        }
      ]
    },
    {
      "cell_type": "code",
      "metadata": {
        "id": "BiOpqqp5PTQa",
        "colab_type": "code",
        "colab": {}
      },
      "source": [
        "#DECODING THE REVIEWS\n",
        "#decode the numeric tokens back to the text words\n",
        "reverse_word_index = dict((value,key) for key,value in word_index.items())\n",
        "#define a function which will help us to decode the reviews\n",
        "def decode(review):\n",
        "  #its going to be a list of numbers\n",
        "  text = ''\n",
        "  for i in review:\n",
        "    text += reverse_word_index[i]\n",
        "    text +=' '\n",
        "  return text"
      ],
      "execution_count": 0,
      "outputs": []
    },
    {
      "cell_type": "code",
      "metadata": {
        "id": "rXmydMMSD6z7",
        "colab_type": "code",
        "outputId": "3413dd3c-ee8d-4826-bcac-b6dbab2ce938",
        "colab": {
          "base_uri": "https://localhost:8080/",
          "height": 55
        }
      },
      "source": [
        "decode(x_train[0])"
      ],
      "execution_count": 0,
      "outputs": [
        {
          "output_type": "execute_result",
          "data": {
            "text/plain": [
              "\"the as you with out themselves powerful lets loves their becomes reaching had journalist of lot from anyone to have after out atmosphere never more room and it so heart shows to years of every never going and help moments or of every chest visual movie except her was several of enough more with is now current film as you of mine potentially unfortunately of you than him that with out themselves her get for was camp of you movie sometimes movie that with scary but and to story wonderful that in seeing in character to of 70s musicians with heart had shadows they of here that with her serious to have does when from why what have critics they is you that isn't one will very to as itself with other and in of seen over landed for anyone of and br show's to whether from than out themselves history he name half some br of and odd was two most of mean for 1 any an boat she he should is thought frog but of script you not while history he heart to real at barrel but when from one bit then have two of script their with her nobody most that with wasn't to with armed acting watch an for with heartfelt film want an \""
            ]
          },
          "metadata": {
            "tags": []
          },
          "execution_count": 7
        }
      ]
    },
    {
      "cell_type": "code",
      "metadata": {
        "id": "4K1BvzvXGZDn",
        "colab_type": "code",
        "outputId": "19f453ee-d761-4a9e-ce51-2bd6b062a4ee",
        "colab": {
          "base_uri": "https://localhost:8080/",
          "height": 90
        }
      },
      "source": [
        "# we can see that the length of every review is going to be different so lets make a function to show length of the review\n",
        "def show_len():\n",
        "  print(\"The length of first training example is: \", len(x_train[0]))\n",
        "  print(\"The length of second training example is: \", len(x_train[1]))\n",
        "  print(\"The length of first test example is: \",len(x_test[0]))\n",
        "  print(\"The length of second test example is: \", len(x_test[0]))\n",
        "\n",
        "show_len()"
      ],
      "execution_count": 0,
      "outputs": [
        {
          "output_type": "stream",
          "text": [
            "The length of first training example is:  218\n",
            "The length of second training example is:  189\n",
            "The length of first test example is:  68\n",
            "The length of second test example is:  68\n"
          ],
          "name": "stdout"
        }
      ]
    },
    {
      "cell_type": "code",
      "metadata": {
        "id": "R57PGgbDHQTX",
        "colab_type": "code",
        "colab": {}
      },
      "source": [
        "#PADDING THE REVIEWS: As we know that all the reviews are not of the same length\n",
        "#So we are going to pad our reviews with useless words which do not contribute to \n",
        "#results of the review like use of 'a','an','the' etc for padding the shorter reviews \n",
        "#to reach the same length of 256 \n",
        "#word_index['the']= 1 ---->(value = 1 ) can also be used\n",
        "#keras provides an inbuilt function for padding like this 'pad_sequences'\n",
        "from tensorflow.python.keras.preprocessing.sequence import pad_sequences\n",
        "x_train = pad_sequences(x_train,value = word_index['the'],padding= 'post',maxlen = 256)\n",
        "x_test = pad_sequences(x_test,value = word_index['the'],padding= 'post',maxlen = 256)\n",
        "\n"
      ],
      "execution_count": 0,
      "outputs": []
    },
    {
      "cell_type": "code",
      "metadata": {
        "id": "Z7YUeJ1o5vtg",
        "colab_type": "code",
        "outputId": "522545dc-e1cd-4dd0-e9d2-3c9302d0f92d",
        "colab": {
          "base_uri": "https://localhost:8080/",
          "height": 90
        }
      },
      "source": [
        "#lets see the reviews lengths now\n",
        "show_len()\n",
        "#done,all padded to 256 length"
      ],
      "execution_count": 0,
      "outputs": [
        {
          "output_type": "stream",
          "text": [
            "The length of first training example is:  256\n",
            "The length of second training example is:  256\n",
            "The length of first test example is:  256\n",
            "The length of second test example is:  256\n"
          ],
          "name": "stdout"
        }
      ]
    },
    {
      "cell_type": "code",
      "metadata": {
        "id": "M0oicBfa6BJc",
        "colab_type": "code",
        "outputId": "80c2f0b7-ccb4-4e58-b706-96420df6b298",
        "colab": {
          "base_uri": "https://localhost:8080/",
          "height": 55
        }
      },
      "source": [
        "decode(x_train[0])"
      ],
      "execution_count": 0,
      "outputs": [
        {
          "output_type": "execute_result",
          "data": {
            "text/plain": [
              "\"the as you with out themselves powerful lets loves their becomes reaching had journalist of lot from anyone to have after out atmosphere never more room and it so heart shows to years of every never going and help moments or of every chest visual movie except her was several of enough more with is now current film as you of mine potentially unfortunately of you than him that with out themselves her get for was camp of you movie sometimes movie that with scary but and to story wonderful that in seeing in character to of 70s musicians with heart had shadows they of here that with her serious to have does when from why what have critics they is you that isn't one will very to as itself with other and in of seen over landed for anyone of and br show's to whether from than out themselves history he name half some br of and odd was two most of mean for 1 any an boat she he should is thought frog but of script you not while history he heart to real at barrel but when from one bit then have two of script their with her nobody most that with wasn't to with armed acting watch an for with heartfelt film want an the the the the the the the the the the the the the the the the the the the the the the the the the the the the the the the the the the the the the the \""
            ]
          },
          "metadata": {
            "tags": []
          },
          "execution_count": 14
        }
      ]
    },
    {
      "cell_type": "code",
      "metadata": {
        "id": "LsOnyVRD6c3Z",
        "colab_type": "code",
        "outputId": "86955232-4514-4101-d14e-bc4974bd71f3",
        "colab": {
          "base_uri": "https://localhost:8080/",
          "height": 311
        }
      },
      "source": [
        "#word embeddings: so that the training model can extrapolate words in between lines \n",
        "#if we give it a slight variation in  the review.Tensorflow will be having a embedding layer\n",
        "#to provide this type of feature\n",
        "\n",
        "\n",
        "# TRAINING THE MODEL\n",
        "from tensorflow.python.keras.models import Sequential\n",
        "from tensorflow.python.keras.layers import Dense,Embedding , GlobalAveragePooling1D\n",
        "\n",
        "model = Sequential ([\n",
        "                     Embedding(10000,16),\n",
        "                     GlobalAveragePooling1D(),\n",
        "                     Dense(16,activation = 'relu'),\n",
        "                     Dense(1,activation = 'sigmoid')\n",
        "])\n",
        "\n",
        "model.compile(\n",
        "    loss = 'binary_crossentropy',\n",
        "    optimizer = 'adam',\n",
        "    metrics = ['accuracy']\n",
        ")\n",
        "\n",
        "\n",
        "model.summary()"
      ],
      "execution_count": 0,
      "outputs": [
        {
          "output_type": "stream",
          "text": [
            "Model: \"sequential_1\"\n",
            "_________________________________________________________________\n",
            "Layer (type)                 Output Shape              Param #   \n",
            "=================================================================\n",
            "embedding_1 (Embedding)      (None, None, 16)          160000    \n",
            "_________________________________________________________________\n",
            "global_average_pooling1d_1 ( (None, 16)                0         \n",
            "_________________________________________________________________\n",
            "dense_2 (Dense)              (None, 16)                272       \n",
            "_________________________________________________________________\n",
            "dense_3 (Dense)              (None, 1)                 17        \n",
            "=================================================================\n",
            "Total params: 160,289\n",
            "Trainable params: 160,289\n",
            "Non-trainable params: 0\n",
            "_________________________________________________________________\n"
          ],
          "name": "stdout"
        }
      ]
    },
    {
      "cell_type": "code",
      "metadata": {
        "id": "4TMsKXn2Acyb",
        "colab_type": "code",
        "outputId": "0a2bb6e0-80e2-4aba-b061-4b60e68792dd",
        "colab": {
          "base_uri": "https://localhost:8080/",
          "height": 35
        }
      },
      "source": [
        "#as we can see our model is having 4 layers,perfectly done\n",
        "#lets TRAIN OUR MODEL\n",
        "\n",
        "from tensorflow.python.keras.callbacks import LambdaCallback\n",
        "simple_log = LambdaCallback(on_epoch_end = lambda e, l : print(e,end='.'))\n",
        "\n",
        "E = 20\n",
        "\n",
        "h = model.fit(\n",
        "    x_train,y_train,\n",
        "    validation_split = 0.2,\n",
        "    epochs = E,\n",
        "    verbose = False,\n",
        "    callbacks = [simple_log]\n",
        "    \n",
        ")\n"
      ],
      "execution_count": 0,
      "outputs": [
        {
          "output_type": "stream",
          "text": [
            "0.1.2.3.4.5.6.7.8.9.10.11.12.13.14.15.16.17.18.19."
          ],
          "name": "stdout"
        }
      ]
    },
    {
      "cell_type": "code",
      "metadata": {
        "id": "ILbcoXHG1Scd",
        "colab_type": "code",
        "outputId": "402b84ec-3f70-4d49-b36a-ed947c287798",
        "colab": {
          "base_uri": "https://localhost:8080/",
          "height": 265
        }
      },
      "source": [
        "#training of the model is complete,\n",
        "#lets move on to PREDICTIONS AND EVALUATION Of our model\n",
        "import matplotlib.pyplot as plt\n",
        "%matplotlib inline\n",
        "\n",
        "plt.plot(range(E),h.history['accuracy'],label = 'Training')\n",
        "plt.plot(range(E),h.history['val_accuracy'],label = 'Validation')\n",
        "plt.legend()\n",
        "plt.show()\n",
        "#as we can see the tarining accuracy is starting from 0 whereas the vlaidation \n",
        "#accuracy begins with almose 85% which is kind of decreasing towards the end because \n",
        "#the accuracy on the validation set is kindof the overfitting has came,so lets remove the overfitting in the next cell"
      ],
      "execution_count": 0,
      "outputs": [
        {
          "output_type": "display_data",
          "data": {
            "image/png": "[encoded data removed]",
            "text/plain": [
              "<Figure size 432x288 with 1 Axes>"
            ]
          },
          "metadata": {
            "tags": [],
            "needs_background": "light"
          }
        }
      ]
    },
    {
      "cell_type": "code",
      "metadata": {
        "id": "X6SSnnVl5KCc",
        "colab_type": "code",
        "outputId": "2d1a4bad-2ca1-4aa0-8726-f60fe16ab9bb",
        "colab": {
          "base_uri": "https://localhost:8080/",
          "height": 54
        }
      },
      "source": [
        "loss,acc = model.evaluate(x_test,y_test)\n",
        "print('test_set_accuracy =',acc*100) "
      ],
      "execution_count": 0,
      "outputs": [
        {
          "output_type": "stream",
          "text": [
            "782/782 [==============================] - 1s 1ms/step - loss: 1.1259 - accuracy: 0.8353\n",
            "test_set_accuracy = 83.5319995880127\n"
          ],
          "name": "stdout"
        }
      ]
    },
    {
      "cell_type": "code",
      "metadata": {
        "id": "Lf7La7os4ONL",
        "colab_type": "code",
        "outputId": "76a087c0-7c0e-4ef5-8c14-14dba9dfde1a",
        "colab": {
          "base_uri": "https://localhost:8080/",
          "height": 35
        }
      },
      "source": [
        "import numpy as np\n",
        "#lets check the first review :whether it is a positive one or a negative\n",
        "p = model.predict(np.expand_dims(x_test[0],axis = 0))\n",
        "print(class_names[np.argmax(p[0])])"
      ],
      "execution_count": 0,
      "outputs": [
        {
          "output_type": "stream",
          "text": [
            "Negative\n"
          ],
          "name": "stdout"
        }
      ]
    },
    {
      "cell_type": "code",
      "metadata": {
        "id": "tgq9jYad7M-Q",
        "colab_type": "code",
        "outputId": "cee5fe8a-9fd1-493a-f5d9-999d68f1f1ff",
        "colab": {
          "base_uri": "https://localhost:8080/",
          "height": 55
        }
      },
      "source": [
        "#lets check manually the first test review\n",
        "decode(x_test[0])"
      ],
      "execution_count": 0,
      "outputs": [
        {
          "output_type": "execute_result",
          "data": {
            "text/plain": [
              "\"the wonder own as by is sequence i i and and to of hollywood br of down shouting getting boring of ever it sadly sadly sadly i i was then does don't close faint after one carry as by are be favourites all family turn in does as three part in another some to be probably with world and her an have faint beginning own as is sequence the the the the the the the the the the the the the the the the the the the the the the the the the the the the the the the the the the the the the the the the the the the the the the the the the the the the the the the the the the the the the the the the the the the the the the the the the the the the the the the the the the the the the the the the the the the the the the the the the the the the the the the the the the the the the the the the the the the the the the the the the the the the the the the the the the the the the the the the the the the the the the the the the the the the the the the the the the the the the the the the the the the the the the the the the the the the the the the the the the the the the the the the the the the the \""
            ]
          },
          "metadata": {
            "tags": []
          },
          "execution_count": 26
        }
      ]
    },
    {
      "cell_type": "code",
      "metadata": {
        "id": "4MWdUGRw_Y9_",
        "colab_type": "code",
        "colab": {}
      },
      "source": [
        "#this project is complete with 83.6% accuracy on test sets.we have use 2 Dense layers and one embedded layer to train our model "
      ],
      "execution_count": 0,
      "outputs": []
    }
  ]
}